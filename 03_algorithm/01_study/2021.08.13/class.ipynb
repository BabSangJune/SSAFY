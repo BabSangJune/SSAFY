{
 "cells": [
  {
   "cell_type": "code",
   "execution_count": 3,
   "source": [
    "s1 = 'a b a'\r\n",
    "s2 = s1.replace('a', 'b')\r\n",
    "s3 = s1.split()\r\n",
    "s4, s5, s6 = s1.split()\r\n",
    "print(s4, s5, s6)\r\n",
    "print(s3)\r\n",
    "print(s2)\r\n",
    "print(s1)"
   ],
   "outputs": [
    {
     "output_type": "stream",
     "name": "stdout",
     "text": [
      "a b a\n",
      "['a', 'b', 'a']\n",
      "b b b\n",
      "a b a\n"
     ]
    }
   ],
   "metadata": {}
  },
  {
   "cell_type": "code",
   "execution_count": 4,
   "source": [
    "print(s1.isalpha())\r\n",
    "print(s1)"
   ],
   "outputs": [
    {
     "output_type": "stream",
     "name": "stdout",
     "text": [
      "False\n",
      "a b a\n"
     ]
    }
   ],
   "metadata": {}
  },
  {
   "cell_type": "code",
   "execution_count": null,
   "source": [
    "#문자열은 이렇게 못바꿈\r\n",
    "s1 = 'ab A'\r\n",
    "print(s1[0])\r\n",
    "s1[0] = 'B'"
   ],
   "outputs": [],
   "metadata": {}
  },
  {
   "cell_type": "code",
   "execution_count": null,
   "source": [
    "s1 = 'ab A' #이런식으로 바꿔야함\r\n",
    "print(s1)\r\n",
    "s1 = s1.replace('a', 'b')\r\n",
    "print(s1)"
   ],
   "outputs": [],
   "metadata": {}
  },
  {
   "cell_type": "code",
   "execution_count": 1,
   "source": [
    "#연습문제\r\n",
    "s = list(input())\r\n",
    "n = len(s)\r\n",
    "for i in range(n//2): \r\n",
    "    s[i], s[n-1-i] = s[n-1-i], s[i] # s[i] <-> s[n-1-i]\r\n",
    "print(s)\r\n"
   ],
   "outputs": [],
   "metadata": {}
  },
  {
   "cell_type": "code",
   "execution_count": null,
   "source": [
    "#askii 코드\r\n",
    "cnt = [0] * 26\r\n",
    "s = 'aba'\r\n",
    "for x in s:\r\n",
    "    cnt[ord(x)-ord('b')] += 1\r\n",
    "\r\n",
    "print(cnt)\r\n",
    "print(chr(65))"
   ],
   "outputs": [],
   "metadata": {}
  },
  {
   "cell_type": "code",
   "execution_count": 7,
   "source": [
    "cnt = [0] * 26\r\n",
    "s = 'aB1a'\r\n",
    "for x in s:\r\n",
    "    if 'a' <= x <= 'z':\r\n",
    "        cnt[ord(x) - ord('a')] += 1\r\n",
    "    elif 'A' <= x <= 'Z':\r\n",
    "        print(x)\r\n",
    "    elif '0' <= x <= '9':\r\n",
    "        print('숫자')\r\n",
    "\r\n",
    "print(cnt)\r\n",
    "print(chr(65))"
   ],
   "outputs": [
    {
     "output_type": "stream",
     "name": "stdout",
     "text": [
      "B\n",
      "[2, 0, 0, 0, 0, 0, 0, 0, 0, 0, 0, 1, 0, 0, 0, 0, 0, 0, 0, 0, 0, 0, 0, 0, 0, 0]\n",
      "A\n"
     ]
    }
   ],
   "metadata": {}
  },
  {
   "cell_type": "code",
   "execution_count": 1,
   "source": [
    "print(('ab' * 3)[3])"
   ],
   "outputs": [
    {
     "output_type": "stream",
     "name": "stdout",
     "text": [
      "b\n"
     ]
    }
   ],
   "metadata": {}
  }
 ],
 "metadata": {
  "orig_nbformat": 4,
  "language_info": {
   "name": "python",
   "version": "3.9.6",
   "mimetype": "text/x-python",
   "codemirror_mode": {
    "name": "ipython",
    "version": 3
   },
   "pygments_lexer": "ipython3",
   "nbconvert_exporter": "python",
   "file_extension": ".py"
  },
  "kernelspec": {
   "name": "python3",
   "display_name": "Python 3.9.6 64-bit"
  },
  "interpreter": {
   "hash": "49c93c0f4324728560b50f72bdf7227deabd42ad1781d3e12a064c0aa4234450"
  }
 },
 "nbformat": 4,
 "nbformat_minor": 2
}