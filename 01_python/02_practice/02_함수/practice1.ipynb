{
 "cells": [
  {
   "cell_type": "markdown",
   "source": [
    "# Practice 1\n",
    "\n",
    "> 함수"
   ],
   "metadata": {}
  },
  {
   "cell_type": "markdown",
   "source": [
    "## `abs()` 직접 구현하기\r\n",
    "\r\n",
    "> 절댓값은 숫자형 자료(int, float)가 들어오면 절댓값을 반환하고, 복소수형 자료(complex)가 들어오면 해당하는 자료의 크기를 반환합니다. \r\n",
    "> \r\n",
    "> 파이썬 내장 함수 `abs()`를 직접 구현한 `my_abs()`를 작성하시오.\r\n",
    "\r\n",
    "---\r\n",
    "\r\n",
    "**공식문서**\r\n",
    "\r\n",
    "![이미지](\"https://user-images.githubusercontent.com/52446416/61273106-b6ee5c00-a7e3-11e9-8ec2-a086b0bc584f.png\")\r\n",
    "\r\n",
    "**복소수 크기 구하는법**\r\n",
    "<center>\r\n",
    "    <img src=\"https://user-images.githubusercontent.com/52446416/61273105-b655c580-a7e3-11e9-9859-0a9ffdecdf7d.png\", alt=\"\">\r\n",
    "</center>\r\n",
    "\r\n",
    "예시)\r\n",
    "\r\n",
    "```python\r\n",
    "my_abs(3+4j) #=> 5.0\r\n",
    "my_abs(-0.0) #=> 0.0\r\n",
    "my_abs(-5) #=> 5\r\n",
    "```"
   ],
   "metadata": {}
  },
  {
   "cell_type": "code",
   "execution_count": 1,
   "source": [
    "# 아래에 코드를 작성하시오.\r\n",
    "\r\n",
    "def my_abs(x):\r\n",
    "    if type(x) == complex:\r\n",
    "        return (x.real**2 + x.imag**2) ** (1/2)\r\n",
    "    else:\r\n",
    "        if x == 0:\r\n",
    "            return x ** 2\r\n",
    "        if x < 0:\r\n",
    "            return -x\r\n",
    "        else:\r\n",
    "            return x"
   ],
   "outputs": [],
   "metadata": {}
  },
  {
   "cell_type": "code",
   "execution_count": 2,
   "source": [
    "# 아래의 코드를 실행하여 출력된 결과를 확인하시오.\r\n",
    "\r\n",
    "print(my_abs(3+4j))\r\n",
    "print(my_abs(-0.0))\r\n",
    "print(my_abs(-5))\r\n",
    "print(abs(3+4j), abs(-0.0), abs(-5))"
   ],
   "outputs": [
    {
     "output_type": "stream",
     "name": "stdout",
     "text": [
      "5.0\n",
      "0.0\n",
      "5\n",
      "5.0 0.0 5\n"
     ]
    }
   ],
   "metadata": {}
  },
  {
   "cell_type": "markdown",
   "source": [
    "## `all()` 직접 구현하기\r\n",
    "\r\n",
    "> `all()`은 인자로 받는 iterable(range, list)의 모든 요소가 참이거나 비어있으면 True를 반환합니다. \r\n",
    ">\r\n",
    "> 파이썬 내장 함수 `all()`을 직접 구현한 `my_all()`을 작성하시오.\r\n",
    "\r\n",
    "\r\n",
    "예시)\r\n",
    "\r\n",
    "```python\r\n",
    "my_all([]) #=> True\r\n",
    "my_all([1, 2, 5, '6']) #=> True\r\n",
    "my_all([[], 2, 5, '6']) #=> False\r\n",
    "```"
   ],
   "metadata": {}
  },
  {
   "cell_type": "code",
   "execution_count": 5,
   "source": [
    "# 아래에 코드를 작성하시오.\r\n",
    "\r\n",
    "def my_all(elements):\r\n",
    "    ans = True\r\n",
    "\r\n",
    "    for element in elements:\r\n",
    "        if not element:\r\n",
    "            ans = False\r\n",
    "            break\r\n",
    "    return ans"
   ],
   "outputs": [],
   "metadata": {}
  },
  {
   "cell_type": "code",
   "execution_count": 6,
   "source": [
    "# 아래의 코드를 실행하여 출력된 결과를 확인하시오.\r\n",
    "\r\n",
    "print(my_all([]))\r\n",
    "print(my_all([1, 2, 5, '6']))\r\n",
    "print(my_all([[], 2, 5, '6']))\r\n",
    "print(all([]), all([1, 2, 5, '6']), all([[], 2, 5, '6']))"
   ],
   "outputs": [
    {
     "output_type": "stream",
     "name": "stdout",
     "text": [
      "True\n",
      "True\n",
      "False\n",
      "True True False\n"
     ]
    }
   ],
   "metadata": {}
  },
  {
   "cell_type": "markdown",
   "source": [
    "## `any()` 직접 구현하기\r\n",
    "\r\n",
    "> `any()`는 인자로 받는 iterable(range, list)의 요소 중 하나라도 참이면 True를 반환하고, 비어있으면 False를 반환합니다. \r\n",
    "> \r\n",
    "> 파이썬 내장 함수 `any()`을 직접 구현한 `my_any()` 함수를 작성하시오.\r\n",
    "\r\n",
    "예시)\r\n",
    "\r\n",
    "```python\r\n",
    "my_any([1, 2, 5, '6']) #=> True\r\n",
    "my_any([[], 2, 5, '6']) #=> True\r\n",
    "my_any([0]) #=> False\r\n",
    "```"
   ],
   "metadata": {}
  },
  {
   "cell_type": "code",
   "execution_count": 10,
   "source": [
    "# 아래에 코드를 작성하시오.\r\n",
    "# all 의 반대\r\n",
    "def my_any(elements):\r\n",
    "    for element in elements:\r\n",
    "        if element:\r\n",
    "            return True\r\n",
    "\r\n",
    "    return False"
   ],
   "outputs": [],
   "metadata": {}
  },
  {
   "cell_type": "code",
   "execution_count": 11,
   "source": [
    "print(my_any([1, 2, 5, '6']))\r\n",
    "print(my_any([[], 2, 5, '6']))\r\n",
    "print(my_any([0]))\r\n",
    "print(any([1, 2, 5, '6']), any([[], 2, 5, '6']), any([0]))"
   ],
   "outputs": [
    {
     "output_type": "stream",
     "name": "stdout",
     "text": [
      "True\n",
      "True\n",
      "False\n",
      "True True False\n"
     ]
    }
   ],
   "metadata": {}
  }
 ],
 "metadata": {
  "kernelspec": {
   "name": "python3",
   "display_name": "Python 3.9.6 64-bit"
  },
  "language_info": {
   "codemirror_mode": {
    "name": "ipython",
    "version": 3
   },
   "file_extension": ".py",
   "mimetype": "text/x-python",
   "name": "python",
   "nbconvert_exporter": "python",
   "pygments_lexer": "ipython3",
   "version": "3.9.6"
  },
  "toc": {
   "base_numbering": 1,
   "nav_menu": {},
   "number_sections": true,
   "sideBar": true,
   "skip_h1_title": false,
   "title_cell": "Table of Contents",
   "title_sidebar": "Contents",
   "toc_cell": false,
   "toc_position": {},
   "toc_section_display": true,
   "toc_window_display": false
  },
  "interpreter": {
   "hash": "49c93c0f4324728560b50f72bdf7227deabd42ad1781d3e12a064c0aa4234450"
  }
 },
 "nbformat": 4,
 "nbformat_minor": 4
}