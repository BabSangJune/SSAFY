{
 "cells": [
  {
   "cell_type": "markdown",
   "source": [
    "# Practice 1\n",
    "\n",
    "> 데이터 & 제어문"
   ],
   "metadata": {}
  },
  {
   "cell_type": "markdown",
   "source": [
    "## 갯수 구하기\n",
    "\n",
    "> 주어진 리스트의 요소는 학생 이름으로 구성되어 있다. 학생들의 수를 출력하시오.\n",
    "\n",
    "---\n",
    "\n",
    "```\n",
    "[출력 예시]\n",
    "3\n",
    "```"
   ],
   "metadata": {}
  },
  {
   "cell_type": "code",
   "execution_count": 1,
   "source": [
    "students = ['김철수', '이영희', '조민지']\r\n",
    "\r\n",
    "# 아래에 코드를 작성하시오.\r\n",
    "print(len(students)) # 리스트의 길이를 확인하는 len 함수를 활용\r\n",
    "\r\n",
    "# cnt 변수를 하나 두어서 직접 체크를 해볼 수 도 있다.\r\n",
    "cnt = 0\r\n",
    "for i in students:\r\n",
    "    print(i)\r\n",
    "    cnt += 1\r\n",
    "#     cnt = cnt + 1\r\n",
    "\r\n",
    "print(cnt)\r\n",
    "\r\n"
   ],
   "outputs": [
    {
     "output_type": "stream",
     "name": "stdout",
     "text": [
      "3\n"
     ]
    }
   ],
   "metadata": {
    "ExecuteTime": {
     "end_time": "2020-07-20T07:21:43.556594Z",
     "start_time": "2020-07-20T07:21:43.553351Z"
    }
   }
  },
  {
   "cell_type": "markdown",
   "source": [
    "## 득표수 구하기\n",
    "\n",
    "> 주어진 리스트는 반장 선거 투표 결과이다. 이영희의 총 득표수를 출력하시오.\n",
    "\n",
    "---\n",
    "\n",
    "```\n",
    "[출력 예시]\n",
    "4\n",
    "```"
   ],
   "metadata": {}
  },
  {
   "cell_type": "code",
   "execution_count": 10,
   "source": [
    "students = ['이영희', '김철수', '이영희', '조민지', '김철수', '조민지', '이영희', '이영희']\r\n",
    "\r\n",
    "# 아래에 코드를 작성하시오.\r\n",
    "print(students.count('이영희'))\r\n",
    "\r\n",
    "\r\n",
    "#반복문 + 조건문을 이용해서 카운트 해보자. \r\n",
    "cnt = 0 # 초기화\r\n",
    "\r\n",
    "#반복문 수행\r\n",
    "for st in students:\r\n",
    "    # st라는 친구가 이영희 라면... 카운트\r\n",
    "    if st == '이영희':\r\n",
    "        cnt += 1\r\n",
    "print(cnt)\r\n",
    "\r\n",
    "#인덱스 접근\r\n",
    "cnt = 0\r\n",
    "for idx in range(len(students)):\r\n",
    "    if students[idx] == '이영희':\r\n",
    "        cnt += 1\r\n",
    "        \r\n",
    "print(cnt)\r\n"
   ],
   "outputs": [
    {
     "output_type": "stream",
     "name": "stdout",
     "text": [
      "4\n"
     ]
    }
   ],
   "metadata": {}
  },
  {
   "cell_type": "markdown",
   "source": [
    "## 최댓값 구하기\n",
    "\n",
    "> 주어진 리스트의 요소 중에서 최댓값을 출력하시오.\n",
    "\n",
    "---\n",
    "```\n",
    "[출력 예시]\n",
    "22\n",
    "```"
   ],
   "metadata": {}
  },
  {
   "cell_type": "code",
   "execution_count": 12,
   "source": [
    "numbers = [7, 10, 22, 4, 3, 17]\r\n",
    "\r\n",
    "# 아래에 코드를 작성하시오.\r\n",
    "print(max(numbers))\r\n",
    "\r\n",
    "#문제를 꼼꼼하게 읽어보고 해야할것 ... \r\n",
    "#만약 문제에서 -100 ~ 100까지 라고 했을 때 음수로만 구성된 리스트가 존재하면 0으로 초기화 할시 틀리게 된다. \r\n",
    "max_value = 0\r\n",
    "\r\n",
    "for i in numbers:\r\n",
    "    if i > max_value:\r\n",
    "        max_value = i\r\n",
    "    \r\n",
    "print(max_value)\r\n"
   ],
   "outputs": [
    {
     "output_type": "stream",
     "name": "stdout",
     "text": [
      "22\n"
     ]
    }
   ],
   "metadata": {}
  },
  {
   "cell_type": "markdown",
   "source": [
    "## 최솟값 구하기\n",
    "\n",
    "> 주어진 리스트의 요소 중에서 최솟값을 출력하시오.\n",
    "---\n",
    "```\n",
    "[출력 예시]\n",
    "3\n",
    "```"
   ],
   "metadata": {}
  },
  {
   "cell_type": "code",
   "execution_count": 13,
   "source": [
    "numbers = [7, 10, 22, 4, 3, 17]\r\n",
    "\r\n",
    "# 아래에 코드를 작성하시오.\r\n",
    "\r\n",
    "print(min(numbers))\r\n",
    "\r\n",
    "\r\n",
    "min_value = 987654321\r\n",
    "for i in range(len(numbers)):\r\n",
    "    if min_value > numbers[i]:\r\n",
    "        min_value = numbers[i]\r\n",
    "\r\n",
    "print(min_value)"
   ],
   "outputs": [
    {
     "output_type": "stream",
     "name": "stdout",
     "text": [
      "3\n"
     ]
    }
   ],
   "metadata": {}
  },
  {
   "cell_type": "markdown",
   "source": [
    "## 최댓값과 등장 횟수 구하기\n",
    "\n",
    "> 주어진 리스트의 요소 중에서 최댓값과 등장 횟수를 출력하시오.\n",
    "\n",
    "---\n",
    "\n",
    "```\n",
    "[출력 예시]\n",
    "22 3\n",
    "```"
   ],
   "metadata": {}
  },
  {
   "cell_type": "code",
   "execution_count": 25,
   "source": [
    "numbers = [7, 10, 22, 7, 22, 22]\r\n",
    "\r\n",
    "# 아래에 코드를 작성하시오.\r\n",
    "\r\n",
    "print(max(numbers), numbers.count(max(numbers)))\r\n",
    "\r\n",
    "#초기화 굉장히 중요\r\n",
    "max_value = numbers[0]\r\n",
    "count = 1\r\n",
    "#리스트 순회\r\n",
    "for i in range(1, len(numbers)):\r\n",
    "    if numbers[i] > max_value:\r\n",
    "        max_value = numbers[i]\r\n",
    "        count = 1\r\n",
    "    elif numbers[i] == max_value:\r\n",
    "        count += 1\r\n",
    "\r\n",
    "print(max_value, count)"
   ],
   "outputs": [
    {
     "output_type": "stream",
     "name": "stdout",
     "text": [
      "22 3\n"
     ]
    }
   ],
   "metadata": {
    "ExecuteTime": {
     "end_time": "2020-07-20T07:14:08.319167Z",
     "start_time": "2020-07-20T07:14:08.316606Z"
    }
   }
  },
  {
   "cell_type": "markdown",
   "source": [
    "## 5의 개수 구하기\n",
    "\n",
    "> 주어진 리스트의 요소 중에서 5의 개수를 출력하시오.\n",
    "---\n",
    "```\n",
    "[출력 예시]\n",
    "3\n",
    "```"
   ],
   "metadata": {}
  },
  {
   "cell_type": "code",
   "execution_count": 22,
   "source": [
    "numbers = [7, 17, 10, 5, 4, 3, 17, 5, 2, 5]\r\n",
    "\r\n",
    "# 아래에 코드를 작성하시오.\r\n",
    "\r\n",
    "print(numbers.count(5))\r\n",
    "\r\n",
    "#영희 득표수랑 같으니 한번 해보자"
   ],
   "outputs": [
    {
     "output_type": "stream",
     "name": "stdout",
     "text": [
      "3\n"
     ]
    }
   ],
   "metadata": {}
  },
  {
   "cell_type": "markdown",
   "source": [
    "## 'a'가 싫어\n",
    "\n",
    "\n",
    "> 입력으로 짧은 영단어 word가 주어질 때, 해당 단어에서 'a'를 모두 제거한 결과를 출력하시오.\n",
    "\n",
    "---\n",
    "```\n",
    "[입력 예시]\n",
    "apple\n",
    "\n",
    "[출력 예시]\n",
    "pple\n",
    "```"
   ],
   "metadata": {}
  },
  {
   "cell_type": "code",
   "execution_count": 28,
   "source": [
    "word = input()\r\n",
    "\r\n",
    "# 아래에 코드를 작성하시오.\r\n",
    "\r\n",
    "print(word.replace('a', '')) #.replace('바꿀 문자', '바뀔 문자')\r\n",
    "\r\n",
    "# 빈 문자열을 하나 준비를 해놓고 \r\n",
    "result = ''\r\n",
    "\r\n",
    "for char in word:\r\n",
    "    if char != 'a':\r\n",
    "        result += char\r\n",
    "\r\n",
    "print(result)"
   ],
   "outputs": [
    {
     "output_type": "stream",
     "name": "stdout",
     "text": [
      "ababab\n",
      "bbb\n"
     ]
    }
   ],
   "metadata": {}
  },
  {
   "cell_type": "markdown",
   "source": [
    "## 단어 뒤집기\n",
    "\n",
    "> 입력으로 짧은 영어단어 word가 주어질 때, 해당 단어를 역순으로 뒤집은 결과를 출력하시오.\n",
    "\n",
    "---\n",
    "```\n",
    "[입력 예시]\n",
    "apple\n",
    "\n",
    "[출력 예시]\n",
    "elppa\n",
    "```"
   ],
   "metadata": {}
  },
  {
   "cell_type": "code",
   "execution_count": 1,
   "source": [
    "word = input()\r\n",
    "\r\n",
    "# 아래에 코드를 작성하시오.\r\n",
    "print(word[::-1])\r\n",
    "\r\n",
    "\"\"\"\r\n",
    "#join 사용\r\n",
    "word = 'apple'\r\n",
    "\r\n",
    "reverse = ''.join(reversed(word))\r\n",
    "print(reverse)\r\n",
    "\r\n",
    "#for\r\n",
    "word = 'apple'\r\n",
    "reverse = ''\r\n",
    "\r\n",
    "for i in word:\r\n",
    "    reverse = i + reverse\r\n",
    "\r\n",
    "print(reverse)\r\n",
    "\r\n",
    "#명균쌤 예제\r\n",
    "for i in range(len(word)-1, -1, -1):\r\n",
    "    print(word[i], end=\"\")\r\n",
    "    \r\n",
    "# 반복문을 그대로 순회 하면서 \r\n",
    "# word[i] + result\r\n",
    "\r\n",
    "# reversed + join \r\n",
    "\r\n",
    "# [::-1]\r\n",
    "\r\n",
    "# swap \r\n",
    "\"\"\""
   ],
   "outputs": [
    {
     "output_type": "stream",
     "name": "stdout",
     "text": [
      "apple\n",
      "elppa\n"
     ]
    },
    {
     "output_type": "execute_result",
     "data": {
      "text/plain": [
       "\"\\nword = 'apple'\\n\\nreverse = ''.join(reversed(word))\\nprint(reverse)\\n\\n\\nword = 'apple'\\nreverse = ''\\n\\nfor i in word:\\n    reverse = i + reverse\\n\\nprint(reverse)\\n\""
      ]
     },
     "metadata": {},
     "execution_count": 1
    }
   ],
   "metadata": {}
  }
 ],
 "metadata": {
  "interpreter": {
   "hash": "49c93c0f4324728560b50f72bdf7227deabd42ad1781d3e12a064c0aa4234450"
  },
  "kernelspec": {
   "display_name": "Python 3 (ipykernel)",
   "language": "python",
   "name": "python3"
  },
  "language_info": {
   "codemirror_mode": {
    "name": "ipython",
    "version": 3
   },
   "file_extension": ".py",
   "mimetype": "text/x-python",
   "name": "python",
   "nbconvert_exporter": "python",
   "pygments_lexer": "ipython3",
   "version": "3.9.6"
  },
  "toc": {
   "base_numbering": 1,
   "nav_menu": {},
   "number_sections": true,
   "sideBar": true,
   "skip_h1_title": false,
   "title_cell": "Table of Contents",
   "title_sidebar": "Contents",
   "toc_cell": false,
   "toc_position": {},
   "toc_section_display": true,
   "toc_window_display": false
  }
 },
 "nbformat": 4,
 "nbformat_minor": 4
}