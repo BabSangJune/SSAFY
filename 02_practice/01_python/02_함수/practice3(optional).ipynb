{
 "cells": [
  {
   "cell_type": "markdown",
   "source": [
    "# Practice 3\n",
    "\n",
    "> 자료 구조 "
   ],
   "metadata": {}
  },
  {
   "cell_type": "markdown",
   "source": [
    "## 회문 판별\r\n",
    "\r\n",
    "> 회문 또는 팰린드롬은 거꾸로 읽어도 제대로 읽는 것과 같은 문장이나 낱말, 숫자, 문자열 등을 말한다. \r\n",
    "> \r\n",
    "> 입력으로 짧은 영어단어 word가 주어질 때, 해당 단어가 회문이면 True 회문이 아니면 False를 반환하는 함수를 작성하시오.\r\n",
    "> \r\n",
    "> 이때, 반복문(`while`)과 재귀 함수를 사용해서 각각 작성하시오.\r\n",
    "\r\n",
    "---\r\n",
    "\r\n",
    "예시)\r\n",
    "\r\n",
    "```python\r\n",
    "is_pal_while('tomato') #=> False\r\n",
    "is_pal_while('racecar') #=> True\r\n",
    "is_pal_recursive('azza') #=> True\r\n",
    "```"
   ],
   "metadata": {}
  },
  {
   "cell_type": "code",
   "execution_count": null,
   "source": [
    "# while\r\n",
    "\r\n",
    "def is_pal_while(word):\r\n",
    "    while len(word) > 1:\r\n",
    "        if word[0] == word[-1]:\r\n",
    "            word = word[1:-1]\r\n",
    "        else:\r\n",
    "            return False\r\n",
    "    \r\n",
    "    return True\r\n"
   ],
   "outputs": [],
   "metadata": {}
  },
  {
   "cell_type": "code",
   "execution_count": null,
   "source": [
    "# 해당 코드를 통해 올바른 결과가 나오는지 확인하시오.\r\n",
    "print(is_pal_while('tomato'))\r\n",
    "print(is_pal_while('racecar'))\r\n",
    "print(is_pal_while('azza'))"
   ],
   "outputs": [],
   "metadata": {
    "ExecuteTime": {
     "end_time": "2020-07-22T06:02:28.799426Z",
     "start_time": "2020-07-22T06:02:28.795559Z"
    }
   }
  },
  {
   "cell_type": "code",
   "execution_count": null,
   "source": [
    "# recursive\r\n",
    "\r\n",
    "def is_pal_recursive(word):\r\n",
    "    pass"
   ],
   "outputs": [],
   "metadata": {}
  },
  {
   "cell_type": "code",
   "execution_count": null,
   "source": [
    "# 해당 코드를 통해 올바른 결과가 나오는지 확인하시오.\n",
    "print(is_pal_recursive('tomato'))\n",
    "print(is_pal_recursive('racecar'))\n",
    "print(is_pal_recursive('azza'))"
   ],
   "outputs": [],
   "metadata": {
    "ExecuteTime": {
     "end_time": "2020-07-22T05:45:13.268969Z",
     "start_time": "2020-07-22T05:45:13.263708Z"
    }
   }
  }
 ],
 "metadata": {
  "kernelspec": {
   "display_name": "Python 3 (ipykernel)",
   "language": "python",
   "name": "python3"
  },
  "language_info": {
   "codemirror_mode": {
    "name": "ipython",
    "version": 3
   },
   "file_extension": ".py",
   "mimetype": "text/x-python",
   "name": "python",
   "nbconvert_exporter": "python",
   "pygments_lexer": "ipython3",
   "version": "3.9.6"
  },
  "toc": {
   "base_numbering": 1,
   "nav_menu": {},
   "number_sections": true,
   "sideBar": true,
   "skip_h1_title": false,
   "title_cell": "Table of Contents",
   "title_sidebar": "Contents",
   "toc_cell": false,
   "toc_position": {},
   "toc_section_display": true,
   "toc_window_display": false
  }
 },
 "nbformat": 4,
 "nbformat_minor": 4
}