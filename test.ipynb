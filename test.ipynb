{
 "cells": [
  {
   "cell_type": "markdown",
   "source": [
    "#연습장\r\n"
   ],
   "metadata": {}
  },
  {
   "cell_type": "code",
   "execution_count": 8,
   "source": [
    "def rectangle(width, height):\r\n",
    "\tarea = width * height\r\n",
    "\tperimeter = (width + height) * 2\r\n",
    "\treturn area, perimeter\r\n",
    "\r\n",
    "rectangle(30, 20)"
   ],
   "outputs": [
    {
     "output_type": "execute_result",
     "data": {
      "text/plain": [
       "(600, 100)"
      ]
     },
     "metadata": {},
     "execution_count": 8
    }
   ],
   "metadata": {}
  },
  {
   "cell_type": "code",
   "execution_count": 9,
   "source": [
    "'a, b, c'.split('_')"
   ],
   "outputs": [
    {
     "output_type": "execute_result",
     "data": {
      "text/plain": [
       "['a, b, c']"
      ]
     },
     "metadata": {},
     "execution_count": 9
    }
   ],
   "metadata": {}
  },
  {
   "cell_type": "code",
   "execution_count": 10,
   "source": [
    "'a b c'.split()"
   ],
   "outputs": [
    {
     "output_type": "execute_result",
     "data": {
      "text/plain": [
       "['a', 'b', 'c']"
      ]
     },
     "metadata": {},
     "execution_count": 10
    }
   ],
   "metadata": {}
  },
  {
   "cell_type": "code",
   "execution_count": 2,
   "source": [
    "# 교재 데이터 구조 및 활용 딕셔너리\r\n",
    "dusts = {'서울' : 72, '대전' : 82, '구미' : 29, '광주' :45}\r\n",
    "result = {}\r\n",
    "for key, value in dusts.items():\r\n",
    "    if value > 70:\r\n",
    "        result[key] = value\r\n",
    "\r\n",
    "print(result)"
   ],
   "outputs": [
    {
     "output_type": "stream",
     "name": "stdout",
     "text": [
      "{'서울': 72, '대전': 82}\n"
     ]
    }
   ],
   "metadata": {}
  },
  {
   "cell_type": "code",
   "execution_count": 3,
   "source": [
    "scores = [80, 89, 99, 83]\r\n",
    "total = 0\r\n",
    "cnt = 0\r\n",
    "avg = 0\r\n",
    "\r\n",
    "for score in scores:\r\n",
    "    total += score\r\n",
    "    cnt += 1\r\n",
    "\r\n",
    "avg = total / cnt\r\n",
    "print(avg)"
   ],
   "outputs": [
    {
     "output_type": "stream",
     "name": "stdout",
     "text": [
      "351\n",
      "4\n"
     ]
    }
   ],
   "metadata": {}
  }
 ],
 "metadata": {
  "orig_nbformat": 4,
  "language_info": {
   "name": "python",
   "version": "3.9.6",
   "mimetype": "text/x-python",
   "codemirror_mode": {
    "name": "ipython",
    "version": 3
   },
   "pygments_lexer": "ipython3",
   "nbconvert_exporter": "python",
   "file_extension": ".py"
  },
  "kernelspec": {
   "name": "python3",
   "display_name": "Python 3.9.6 64-bit"
  },
  "interpreter": {
   "hash": "49c93c0f4324728560b50f72bdf7227deabd42ad1781d3e12a064c0aa4234450"
  }
 },
 "nbformat": 4,
 "nbformat_minor": 2
}